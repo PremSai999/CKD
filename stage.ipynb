{
 "cells": [
  {
   "cell_type": "markdown",
   "id": "16990695",
   "metadata": {},
   "source": [
    "## Importing Libraries"
   ]
  },
  {
   "cell_type": "code",
   "execution_count": 125,
   "id": "aa17f63f",
   "metadata": {},
   "outputs": [],
   "source": [
    "import numpy as np\n",
    "import pandas as pd\n",
    "import matplotlib.pyplot as plt\n",
    "import seaborn as sns\n",
    "%matplotlib inline"
   ]
  },
  {
   "cell_type": "code",
   "execution_count": 126,
   "id": "eb7f6a44",
   "metadata": {},
   "outputs": [],
   "source": [
    "df= pd.read_csv('stages.csv')"
   ]
  },
  {
   "cell_type": "markdown",
   "id": "52723d77",
   "metadata": {},
   "source": [
    "# Exploratory Data Analysis (EDA)"
   ]
  },
  {
   "cell_type": "code",
   "execution_count": 127,
   "id": "5bbff7d8",
   "metadata": {},
   "outputs": [
    {
     "data": {
      "text/html": [
       "<div>\n",
       "<style scoped>\n",
       "    .dataframe tbody tr th:only-of-type {\n",
       "        vertical-align: middle;\n",
       "    }\n",
       "\n",
       "    .dataframe tbody tr th {\n",
       "        vertical-align: top;\n",
       "    }\n",
       "\n",
       "    .dataframe thead th {\n",
       "        text-align: right;\n",
       "    }\n",
       "</style>\n",
       "<table border=\"1\" class=\"dataframe\">\n",
       "  <thead>\n",
       "    <tr style=\"text-align: right;\">\n",
       "      <th></th>\n",
       "      <th>ID</th>\n",
       "      <th>AGE</th>\n",
       "      <th>WEIGHT</th>\n",
       "      <th>SG</th>\n",
       "      <th>Alb</th>\n",
       "      <th>eGFR</th>\n",
       "      <th>Na+</th>\n",
       "      <th>K+</th>\n",
       "      <th>BUN</th>\n",
       "      <th>Creat</th>\n",
       "      <th>Rbc</th>\n",
       "      <th>Wbc</th>\n",
       "      <th>Bp</th>\n",
       "      <th>Appetite</th>\n",
       "      <th>Pedal Edema</th>\n",
       "      <th>Anemia</th>\n",
       "      <th>HTN</th>\n",
       "      <th>DM</th>\n",
       "      <th>CLASS</th>\n",
       "    </tr>\n",
       "  </thead>\n",
       "  <tbody>\n",
       "    <tr>\n",
       "      <th>0</th>\n",
       "      <td>1.0</td>\n",
       "      <td>57.0</td>\n",
       "      <td>89.0</td>\n",
       "      <td>1.020</td>\n",
       "      <td>4.0</td>\n",
       "      <td>80.0</td>\n",
       "      <td>135.0</td>\n",
       "      <td>3.8</td>\n",
       "      <td>40.0</td>\n",
       "      <td>1.40</td>\n",
       "      <td>3.8</td>\n",
       "      <td>7800.0</td>\n",
       "      <td>130/80</td>\n",
       "      <td>Good</td>\n",
       "      <td>Present</td>\n",
       "      <td>+</td>\n",
       "      <td>_</td>\n",
       "      <td>+</td>\n",
       "      <td>Mild-mod CKD</td>\n",
       "    </tr>\n",
       "    <tr>\n",
       "      <th>1</th>\n",
       "      <td>2.0</td>\n",
       "      <td>78.0</td>\n",
       "      <td>87.0</td>\n",
       "      <td>1.020</td>\n",
       "      <td>3.0</td>\n",
       "      <td>78.0</td>\n",
       "      <td>136.0</td>\n",
       "      <td>4.2</td>\n",
       "      <td>42.0</td>\n",
       "      <td>1.00</td>\n",
       "      <td>4.2</td>\n",
       "      <td>6300.0</td>\n",
       "      <td>130/82</td>\n",
       "      <td>Good</td>\n",
       "      <td>present</td>\n",
       "      <td>+</td>\n",
       "      <td>+</td>\n",
       "      <td>+</td>\n",
       "      <td>Mild-mod CKD</td>\n",
       "    </tr>\n",
       "    <tr>\n",
       "      <th>2</th>\n",
       "      <td>3.0</td>\n",
       "      <td>76.0</td>\n",
       "      <td>90.0</td>\n",
       "      <td>1.010</td>\n",
       "      <td>4.0</td>\n",
       "      <td>90.0</td>\n",
       "      <td>134.0</td>\n",
       "      <td>4.5</td>\n",
       "      <td>38.0</td>\n",
       "      <td>1.40</td>\n",
       "      <td>3.2</td>\n",
       "      <td>7500.0</td>\n",
       "      <td>140/88</td>\n",
       "      <td>Good</td>\n",
       "      <td>present</td>\n",
       "      <td>+</td>\n",
       "      <td>+</td>\n",
       "      <td>+</td>\n",
       "      <td>Mild-mod CKD</td>\n",
       "    </tr>\n",
       "    <tr>\n",
       "      <th>3</th>\n",
       "      <td>4.0</td>\n",
       "      <td>70.0</td>\n",
       "      <td>92.0</td>\n",
       "      <td>1.005</td>\n",
       "      <td>2.0</td>\n",
       "      <td>75.0</td>\n",
       "      <td>136.0</td>\n",
       "      <td>4.3</td>\n",
       "      <td>36.0</td>\n",
       "      <td>1.02</td>\n",
       "      <td>4.2</td>\n",
       "      <td>6700.0</td>\n",
       "      <td>140/86</td>\n",
       "      <td>Poor</td>\n",
       "      <td>present</td>\n",
       "      <td>+</td>\n",
       "      <td>+</td>\n",
       "      <td>+</td>\n",
       "      <td>Mild-mod CKD</td>\n",
       "    </tr>\n",
       "    <tr>\n",
       "      <th>4</th>\n",
       "      <td>5.0</td>\n",
       "      <td>65.0</td>\n",
       "      <td>94.0</td>\n",
       "      <td>1.010</td>\n",
       "      <td>4.0</td>\n",
       "      <td>89.0</td>\n",
       "      <td>138.0</td>\n",
       "      <td>4.3</td>\n",
       "      <td>28.0</td>\n",
       "      <td>0.80</td>\n",
       "      <td>4.5</td>\n",
       "      <td>4300.0</td>\n",
       "      <td>130/84</td>\n",
       "      <td>Good</td>\n",
       "      <td>present</td>\n",
       "      <td>_</td>\n",
       "      <td>_</td>\n",
       "      <td>+</td>\n",
       "      <td>Mild-mod CKD</td>\n",
       "    </tr>\n",
       "  </tbody>\n",
       "</table>\n",
       "</div>"
      ],
      "text/plain": [
       "    ID   AGE  WEIGHT     SG  Alb  eGFR    Na+   K+   BUN  Creat  Rbc     Wbc  \\\n",
       "0  1.0  57.0    89.0  1.020  4.0  80.0  135.0  3.8  40.0   1.40  3.8  7800.0   \n",
       "1  2.0  78.0    87.0  1.020  3.0  78.0  136.0  4.2  42.0   1.00  4.2  6300.0   \n",
       "2  3.0  76.0    90.0  1.010  4.0  90.0  134.0  4.5  38.0   1.40  3.2  7500.0   \n",
       "3  4.0  70.0    92.0  1.005  2.0  75.0  136.0  4.3  36.0   1.02  4.2  6700.0   \n",
       "4  5.0  65.0    94.0  1.010  4.0  89.0  138.0  4.3  28.0   0.80  4.5  4300.0   \n",
       "\n",
       "       Bp Appetite Pedal Edema Anemia HTN DM         CLASS  \n",
       "0  130/80     Good     Present      +   _  +  Mild-mod CKD  \n",
       "1  130/82     Good     present      +   +  +  Mild-mod CKD  \n",
       "2  140/88     Good     present      +   +  +  Mild-mod CKD  \n",
       "3  140/86     Poor     present      +   +  +  Mild-mod CKD  \n",
       "4  130/84     Good     present      _   _  +  Mild-mod CKD  "
      ]
     },
     "execution_count": 127,
     "metadata": {},
     "output_type": "execute_result"
    }
   ],
   "source": [
    "df.head()"
   ]
  },
  {
   "cell_type": "code",
   "execution_count": 128,
   "id": "912a3127",
   "metadata": {},
   "outputs": [
    {
     "data": {
      "text/plain": [
       "(612, 19)"
      ]
     },
     "execution_count": 128,
     "metadata": {},
     "output_type": "execute_result"
    }
   ],
   "source": [
    "df.shape"
   ]
  },
  {
   "cell_type": "code",
   "execution_count": 129,
   "id": "dcb31462",
   "metadata": {},
   "outputs": [
    {
     "name": "stdout",
     "output_type": "stream",
     "text": [
      "<class 'pandas.core.frame.DataFrame'>\n",
      "RangeIndex: 612 entries, 0 to 611\n",
      "Data columns (total 19 columns):\n",
      " #   Column       Non-Null Count  Dtype  \n",
      "---  ------       --------------  -----  \n",
      " 0   ID           50 non-null     float64\n",
      " 1   AGE          600 non-null    float64\n",
      " 2   WEIGHT       502 non-null    float64\n",
      " 3   SG           506 non-null    float64\n",
      " 4   Alb          510 non-null    float64\n",
      " 5   eGFR         531 non-null    float64\n",
      " 6   Na+          481 non-null    float64\n",
      " 7   K+           470 non-null    float64\n",
      " 8   BUN          569 non-null    float64\n",
      " 9   Creat        585 non-null    float64\n",
      " 10  Rbc          521 non-null    float64\n",
      " 11  Wbc          518 non-null    float64\n",
      " 12  Bp           524 non-null    object \n",
      " 13  Appetite     597 non-null    object \n",
      " 14  Pedal Edema  601 non-null    object \n",
      " 15  Anemia       545 non-null    object \n",
      " 16  HTN          555 non-null    object \n",
      " 17  DM           599 non-null    object \n",
      " 18  CLASS        608 non-null    object \n",
      "dtypes: float64(12), object(7)\n",
      "memory usage: 91.0+ KB\n"
     ]
    }
   ],
   "source": [
    "df.info()"
   ]
  },
  {
   "cell_type": "code",
   "execution_count": 130,
   "id": "bfd58c78",
   "metadata": {},
   "outputs": [
    {
     "data": {
      "text/html": [
       "<div>\n",
       "<style scoped>\n",
       "    .dataframe tbody tr th:only-of-type {\n",
       "        vertical-align: middle;\n",
       "    }\n",
       "\n",
       "    .dataframe tbody tr th {\n",
       "        vertical-align: top;\n",
       "    }\n",
       "\n",
       "    .dataframe thead th {\n",
       "        text-align: right;\n",
       "    }\n",
       "</style>\n",
       "<table border=\"1\" class=\"dataframe\">\n",
       "  <thead>\n",
       "    <tr style=\"text-align: right;\">\n",
       "      <th></th>\n",
       "      <th>count</th>\n",
       "      <th>mean</th>\n",
       "      <th>std</th>\n",
       "      <th>min</th>\n",
       "      <th>25%</th>\n",
       "      <th>50%</th>\n",
       "      <th>75%</th>\n",
       "      <th>max</th>\n",
       "    </tr>\n",
       "  </thead>\n",
       "  <tbody>\n",
       "    <tr>\n",
       "      <th>ID</th>\n",
       "      <td>50.0</td>\n",
       "      <td>25.500000</td>\n",
       "      <td>14.577380</td>\n",
       "      <td>1.000</td>\n",
       "      <td>13.250</td>\n",
       "      <td>25.50</td>\n",
       "      <td>37.750</td>\n",
       "      <td>50.00</td>\n",
       "    </tr>\n",
       "    <tr>\n",
       "      <th>AGE</th>\n",
       "      <td>600.0</td>\n",
       "      <td>62.463333</td>\n",
       "      <td>15.413672</td>\n",
       "      <td>0.000</td>\n",
       "      <td>53.000</td>\n",
       "      <td>65.00</td>\n",
       "      <td>73.000</td>\n",
       "      <td>90.00</td>\n",
       "    </tr>\n",
       "    <tr>\n",
       "      <th>WEIGHT</th>\n",
       "      <td>502.0</td>\n",
       "      <td>76.867729</td>\n",
       "      <td>14.482366</td>\n",
       "      <td>40.000</td>\n",
       "      <td>67.000</td>\n",
       "      <td>79.00</td>\n",
       "      <td>87.750</td>\n",
       "      <td>109.00</td>\n",
       "    </tr>\n",
       "    <tr>\n",
       "      <th>SG</th>\n",
       "      <td>506.0</td>\n",
       "      <td>1.611413</td>\n",
       "      <td>5.056393</td>\n",
       "      <td>0.005</td>\n",
       "      <td>1.005</td>\n",
       "      <td>1.01</td>\n",
       "      <td>1.025</td>\n",
       "      <td>54.00</td>\n",
       "    </tr>\n",
       "    <tr>\n",
       "      <th>Alb</th>\n",
       "      <td>510.0</td>\n",
       "      <td>2.745157</td>\n",
       "      <td>1.196309</td>\n",
       "      <td>0.000</td>\n",
       "      <td>2.000</td>\n",
       "      <td>3.00</td>\n",
       "      <td>4.000</td>\n",
       "      <td>5.00</td>\n",
       "    </tr>\n",
       "    <tr>\n",
       "      <th>eGFR</th>\n",
       "      <td>531.0</td>\n",
       "      <td>52.075876</td>\n",
       "      <td>28.353747</td>\n",
       "      <td>4.000</td>\n",
       "      <td>28.000</td>\n",
       "      <td>46.00</td>\n",
       "      <td>77.000</td>\n",
       "      <td>115.00</td>\n",
       "    </tr>\n",
       "    <tr>\n",
       "      <th>Na+</th>\n",
       "      <td>481.0</td>\n",
       "      <td>134.908108</td>\n",
       "      <td>5.159033</td>\n",
       "      <td>109.000</td>\n",
       "      <td>132.000</td>\n",
       "      <td>134.00</td>\n",
       "      <td>138.000</td>\n",
       "      <td>158.00</td>\n",
       "    </tr>\n",
       "    <tr>\n",
       "      <th>K+</th>\n",
       "      <td>470.0</td>\n",
       "      <td>4.039319</td>\n",
       "      <td>0.682489</td>\n",
       "      <td>2.300</td>\n",
       "      <td>3.600</td>\n",
       "      <td>4.00</td>\n",
       "      <td>4.575</td>\n",
       "      <td>6.90</td>\n",
       "    </tr>\n",
       "    <tr>\n",
       "      <th>BUN</th>\n",
       "      <td>569.0</td>\n",
       "      <td>45.227610</td>\n",
       "      <td>27.435612</td>\n",
       "      <td>10.000</td>\n",
       "      <td>27.000</td>\n",
       "      <td>40.00</td>\n",
       "      <td>51.000</td>\n",
       "      <td>258.00</td>\n",
       "    </tr>\n",
       "    <tr>\n",
       "      <th>Creat</th>\n",
       "      <td>585.0</td>\n",
       "      <td>2.820803</td>\n",
       "      <td>2.716445</td>\n",
       "      <td>0.400</td>\n",
       "      <td>1.400</td>\n",
       "      <td>1.90</td>\n",
       "      <td>3.000</td>\n",
       "      <td>21.42</td>\n",
       "    </tr>\n",
       "    <tr>\n",
       "      <th>Rbc</th>\n",
       "      <td>521.0</td>\n",
       "      <td>3.709559</td>\n",
       "      <td>0.875908</td>\n",
       "      <td>1.890</td>\n",
       "      <td>3.100</td>\n",
       "      <td>3.40</td>\n",
       "      <td>4.300</td>\n",
       "      <td>6.85</td>\n",
       "    </tr>\n",
       "    <tr>\n",
       "      <th>Wbc</th>\n",
       "      <td>518.0</td>\n",
       "      <td>8374.710425</td>\n",
       "      <td>3558.313258</td>\n",
       "      <td>1000.000</td>\n",
       "      <td>5700.000</td>\n",
       "      <td>8615.00</td>\n",
       "      <td>11200.000</td>\n",
       "      <td>31000.00</td>\n",
       "    </tr>\n",
       "  </tbody>\n",
       "</table>\n",
       "</div>"
      ],
      "text/plain": [
       "        count         mean          std       min       25%      50%  \\\n",
       "ID       50.0    25.500000    14.577380     1.000    13.250    25.50   \n",
       "AGE     600.0    62.463333    15.413672     0.000    53.000    65.00   \n",
       "WEIGHT  502.0    76.867729    14.482366    40.000    67.000    79.00   \n",
       "SG      506.0     1.611413     5.056393     0.005     1.005     1.01   \n",
       "Alb     510.0     2.745157     1.196309     0.000     2.000     3.00   \n",
       "eGFR    531.0    52.075876    28.353747     4.000    28.000    46.00   \n",
       "Na+     481.0   134.908108     5.159033   109.000   132.000   134.00   \n",
       "K+      470.0     4.039319     0.682489     2.300     3.600     4.00   \n",
       "BUN     569.0    45.227610    27.435612    10.000    27.000    40.00   \n",
       "Creat   585.0     2.820803     2.716445     0.400     1.400     1.90   \n",
       "Rbc     521.0     3.709559     0.875908     1.890     3.100     3.40   \n",
       "Wbc     518.0  8374.710425  3558.313258  1000.000  5700.000  8615.00   \n",
       "\n",
       "              75%       max  \n",
       "ID         37.750     50.00  \n",
       "AGE        73.000     90.00  \n",
       "WEIGHT     87.750    109.00  \n",
       "SG          1.025     54.00  \n",
       "Alb         4.000      5.00  \n",
       "eGFR       77.000    115.00  \n",
       "Na+       138.000    158.00  \n",
       "K+          4.575      6.90  \n",
       "BUN        51.000    258.00  \n",
       "Creat       3.000     21.42  \n",
       "Rbc         4.300      6.85  \n",
       "Wbc     11200.000  31000.00  "
      ]
     },
     "execution_count": 130,
     "metadata": {},
     "output_type": "execute_result"
    }
   ],
   "source": [
    "df.describe().T"
   ]
  },
  {
   "cell_type": "code",
   "execution_count": 131,
   "id": "7498ad9b",
   "metadata": {},
   "outputs": [
    {
     "data": {
      "text/plain": [
       "ID             562\n",
       "AGE             12\n",
       "WEIGHT         110\n",
       "SG             106\n",
       "Alb            102\n",
       "eGFR            81\n",
       "Na+            131\n",
       "K+             142\n",
       "BUN             43\n",
       "Creat           27\n",
       "Rbc             91\n",
       "Wbc             94\n",
       "Bp              88\n",
       "Appetite        15\n",
       "Pedal Edema     11\n",
       "Anemia          67\n",
       "HTN             57\n",
       "DM              13\n",
       "CLASS            4\n",
       "dtype: int64"
      ]
     },
     "execution_count": 131,
     "metadata": {},
     "output_type": "execute_result"
    }
   ],
   "source": [
    "df.isnull().sum()"
   ]
  },
  {
   "cell_type": "code",
   "execution_count": 132,
   "id": "94515f6b",
   "metadata": {},
   "outputs": [
    {
     "name": "stdout",
     "output_type": "stream",
     "text": [
      "The plot to display the missing values in each features :\n"
     ]
    },
    {
     "name": "stderr",
     "output_type": "stream",
     "text": [
      "C:\\Users\\prems\\anaconda3\\envs\\MinorProject\\lib\\site-packages\\seaborn\\_decorators.py:36: FutureWarning: Pass the following variables as keyword args: x, y. From version 0.12, the only valid positional argument will be `data`, and passing other arguments without an explicit keyword will result in an error or misinterpretation.\n",
      "  warnings.warn(\n"
     ]
    },
    {
     "data": {
      "image/png": "[encoded data removed]",
      "text/plain": [
       "<Figure size 1152x360 with 1 Axes>"
      ]
     },
     "metadata": {
      "needs_background": "light"
     },
     "output_type": "display_data"
    }
   ],
   "source": [
    "#plot the graph to check wether there are any missing value present\n",
    "print(\"The plot to display the missing values in each features :\")\n",
    "missing = pd.DataFrame((df.isnull().sum())*100/df.shape[0]).reset_index()\n",
    "plt.figure(figsize=(16,5))\n",
    "ax = sns.pointplot('index',0,data=missing)\n",
    "plt.xticks(rotation =90,fontsize =7)\n",
    "plt.title(\"Percentage of Missing values\")\n",
    "plt.ylabel(\"PERCENTAGE\")\n",
    "plt.show()"
   ]
  },
  {
   "cell_type": "code",
   "execution_count": 133,
   "id": "ad343c7a",
   "metadata": {},
   "outputs": [
    {
     "name": "stdout",
     "output_type": "stream",
     "text": [
      "Plot to display the distribution of each class\n"
     ]
    },
    {
     "data": {
      "text/plain": [
       "<AxesSubplot:xlabel='CLASS', ylabel='count'>"
      ]
     },
     "execution_count": 133,
     "metadata": {},
     "output_type": "execute_result"
    },
    {
     "data": {
      "image/png": "[encoded data removed]",
      "text/plain": [
       "<Figure size 720x360 with 1 Axes>"
      ]
     },
     "metadata": {
      "needs_background": "light"
     },
     "output_type": "display_data"
    }
   ],
   "source": [
    "#plotting the count plot to vizualize the data distribution\n",
    "print('Plot to display the distribution of each class')\n",
    "plt.figure(figsize=(10,5))\n",
    "sns.countplot(x = 'CLASS', data = df)"
   ]
  },
  {
   "cell_type": "code",
   "execution_count": 134,
   "id": "a319ab79",
   "metadata": {},
   "outputs": [
    {
     "name": "stdout",
     "output_type": "stream",
     "text": [
      "The unique classes inside the class feature:\n"
     ]
    },
    {
     "data": {
      "text/plain": [
       "array(['Mild-mod CKD', 'Severe CKD', 'ESRD', nan], dtype=object)"
      ]
     },
     "execution_count": 134,
     "metadata": {},
     "output_type": "execute_result"
    }
   ],
   "source": [
    "print('The unique classes inside the class feature:')\n",
    "df['CLASS'].unique()"
   ]
  },
  {
   "cell_type": "code",
   "execution_count": 135,
   "id": "31b5797b",
   "metadata": {},
   "outputs": [
    {
     "data": {
      "image/png": "[encoded data removed]",
      "text/plain": [
       "<Figure size 576x576 with 1 Axes>"
      ]
     },
     "metadata": {},
     "output_type": "display_data"
    }
   ],
   "source": [
    "#To get the pie chart to analyze Kidney disease \n",
    "df['CLASS'].value_counts().plot.pie(autopct='%1.1f%%',  startangle=90,shadow=True, figsize=(8,8))\n",
    "plt.title('Pie Chart for different stages of kidney disease')\n",
    "plt.show()"
   ]
  },
  {
   "cell_type": "code",
   "execution_count": 136,
   "id": "0b01079b",
   "metadata": {},
   "outputs": [
    {
     "data": {
      "text/plain": [
       "<seaborn.axisgrid.FacetGrid at 0x2005f342740>"
      ]
     },
     "execution_count": 136,
     "metadata": {},
     "output_type": "execute_result"
    },
    {
     "data": {
      "image/png": "[encoded data removed]",
      "text/plain": [
       "<Figure size 360x360 with 1 Axes>"
      ]
     },
     "metadata": {
      "needs_background": "light"
     },
     "output_type": "display_data"
    }
   ],
   "source": [
    "#Account age vs kidney disease stage\n",
    "sns.displot(df['AGE'])"
   ]
  },
  {
   "cell_type": "code",
   "execution_count": 137,
   "id": "c0264e35",
   "metadata": {},
   "outputs": [
    {
     "data": {
      "text/plain": [
       "<seaborn.axisgrid.FacetGrid at 0x2005f9f2c20>"
      ]
     },
     "execution_count": 137,
     "metadata": {},
     "output_type": "execute_result"
    },
    {
     "data": {
      "image/png": "[encoded data removed]",
      "text/plain": [
       "<Figure size 360x360 with 1 Axes>"
      ]
     },
     "metadata": {
      "needs_background": "light"
     },
     "output_type": "display_data"
    }
   ],
   "source": [
    "#Account weight vs kidney disease stage\n",
    "sns.displot(df['WEIGHT'])"
   ]
  },
  {
   "cell_type": "code",
   "execution_count": 138,
   "id": "5c4ad8a1",
   "metadata": {},
   "outputs": [
    {
     "data": {
      "text/plain": [
       "<seaborn.axisgrid.FacetGrid at 0x2005f406bf0>"
      ]
     },
     "execution_count": 138,
     "metadata": {},
     "output_type": "execute_result"
    },
    {
     "data": {
      "image/png": "[encoded data removed]",
      "text/plain": [
       "<Figure size 360x360 with 1 Axes>"
      ]
     },
     "metadata": {
      "needs_background": "light"
     },
     "output_type": "display_data"
    }
   ],
   "source": [
    "#Account SG vs kidney disease stage\n",
    "sns.displot(df['SG'])"
   ]
  },
  {
   "cell_type": "code",
   "execution_count": 139,
   "id": "4696e9e8",
   "metadata": {},
   "outputs": [
    {
     "data": {
      "text/plain": [
       "<seaborn.axisgrid.FacetGrid at 0x2005f444d90>"
      ]
     },
     "execution_count": 139,
     "metadata": {},
     "output_type": "execute_result"
    },
    {
     "data": {
      "image/png": "[encoded data removed]",
      "text/plain": [
       "<Figure size 360x360 with 1 Axes>"
      ]
     },
     "metadata": {
      "needs_background": "light"
     },
     "output_type": "display_data"
    }
   ],
   "source": [
    "#Account Alb vs kidney disease stage\n",
    "sns.displot(df['Alb'])"
   ]
  },
  {
   "cell_type": "code",
   "execution_count": 140,
   "id": "591a9913",
   "metadata": {},
   "outputs": [
    {
     "data": {
      "text/plain": [
       "<seaborn.axisgrid.FacetGrid at 0x2005f4aa410>"
      ]
     },
     "execution_count": 140,
     "metadata": {},
     "output_type": "execute_result"
    },
    {
     "data": {
      "image/png": "[encoded data removed]",
      "text/plain": [
       "<Figure size 360x360 with 1 Axes>"
      ]
     },
     "metadata": {
      "needs_background": "light"
     },
     "output_type": "display_data"
    }
   ],
   "source": [
    "#Account eGFR vs kidney disease stage\n",
    "sns.displot(df['eGFR'])"
   ]
  },
  {
   "cell_type": "code",
   "execution_count": 141,
   "id": "d3c17c59",
   "metadata": {},
   "outputs": [
    {
     "data": {
      "text/plain": [
       "<seaborn.axisgrid.FacetGrid at 0x20067ebae60>"
      ]
     },
     "execution_count": 141,
     "metadata": {},
     "output_type": "execute_result"
    },
    {
     "data": {
      "image/png": "[encoded data removed]",
      "text/plain": [
       "<Figure size 360x360 with 1 Axes>"
      ]
     },
     "metadata": {
      "needs_background": "light"
     },
     "output_type": "display_data"
    }
   ],
   "source": [
    "#Account Na+ vs kidney disease stage\n",
    "sns.displot(df['Na+'])"
   ]
  },
  {
   "cell_type": "code",
   "execution_count": 142,
   "id": "dee61ce0",
   "metadata": {},
   "outputs": [
    {
     "data": {
      "text/plain": [
       "<seaborn.axisgrid.FacetGrid at 0x200683abd60>"
      ]
     },
     "execution_count": 142,
     "metadata": {},
     "output_type": "execute_result"
    },
    {
     "data": {
      "image/png": "[encoded data removed]",
      "text/plain": [
       "<Figure size 360x360 with 1 Axes>"
      ]
     },
     "metadata": {
      "needs_background": "light"
     },
     "output_type": "display_data"
    }
   ],
   "source": [
    "#Account k+ vs kidney disease stage\n",
    "sns.displot(df['K+'])"
   ]
  },
  {
   "cell_type": "code",
   "execution_count": 143,
   "id": "43d781e9",
   "metadata": {},
   "outputs": [
    {
     "data": {
      "text/plain": [
       "<AxesSubplot:>"
      ]
     },
     "execution_count": 143,
     "metadata": {},
     "output_type": "execute_result"
    },
    {
     "data": {
      "image/png": "[encoded data removed]",
      "text/plain": [
       "<Figure size 1224x576 with 2 Axes>"
      ]
     },
     "metadata": {
      "needs_background": "light"
     },
     "output_type": "display_data"
    }
   ],
   "source": [
    "## plot the Correlation matrix\n",
    "plt.figure(figsize=(17,8))\n",
    "correlation=df.corr()\n",
    "sns.heatmap(abs(correlation), annot=True, cmap='coolwarm')"
   ]
  },
  {
   "cell_type": "markdown",
   "id": "c6cbd64d",
   "metadata": {},
   "source": [
    "## Data Preprocessing"
   ]
  },
  {
   "cell_type": "code",
   "execution_count": 144,
   "id": "5347e4db",
   "metadata": {},
   "outputs": [
    {
     "data": {
      "text/plain": [
       "Index(['AGE', 'WEIGHT', 'SG', 'Alb', 'eGFR', 'Na+', 'K+', 'BUN', 'Creat',\n",
       "       'Rbc', 'Wbc', 'Bp', 'Appetite', 'Pedal Edema', 'Anemia', 'HTN', 'DM',\n",
       "       'CLASS'],\n",
       "      dtype='object')"
      ]
     },
     "execution_count": 144,
     "metadata": {},
     "output_type": "execute_result"
    }
   ],
   "source": [
    "df = df.drop(['ID'],axis=1)\n",
    "df.columns"
   ]
  },
  {
   "cell_type": "code",
   "execution_count": 145,
   "id": "32064880",
   "metadata": {},
   "outputs": [
    {
     "data": {
      "text/plain": [
       "AGE             12\n",
       "WEIGHT         110\n",
       "SG             106\n",
       "Alb            102\n",
       "eGFR            81\n",
       "Na+            131\n",
       "K+             142\n",
       "BUN             43\n",
       "Creat           27\n",
       "Rbc             91\n",
       "Wbc             94\n",
       "Bp              88\n",
       "Appetite        15\n",
       "Pedal Edema     11\n",
       "Anemia          67\n",
       "HTN             57\n",
       "DM              13\n",
       "CLASS            4\n",
       "dtype: int64"
      ]
     },
     "execution_count": 145,
     "metadata": {},
     "output_type": "execute_result"
    }
   ],
   "source": [
    "df.isna().sum()"
   ]
  },
  {
   "cell_type": "code",
   "execution_count": 146,
   "id": "434c2ae5",
   "metadata": {},
   "outputs": [],
   "source": [
    "df['AGE'] = df['AGE'].fillna(df['AGE'].mean())\n",
    "df['WEIGHT'] = df['WEIGHT'].fillna(df['WEIGHT'].mean())\n",
    "df['SG'] = df['SG'].fillna(df['SG'].mean())\n",
    "df['Alb'] = df['Alb'].fillna(df['Alb'].mean())\n",
    "df['eGFR'] = df['eGFR'].fillna(df['eGFR'].mean())\n",
    "df['Na+'] = df['Na+'].fillna(df['Na+'].mean())\n",
    "df['K+'] = df['K+'].fillna(df['K+'].mean())\n",
    "df['BUN'] = df['BUN'].fillna(df['BUN'].mean())\n",
    "df['Creat'] = df['Creat'].fillna(df['Creat'].mean())\n",
    "df['Rbc'] = df['Rbc'].fillna(df['Rbc'].mean())\n",
    "df['Wbc'] = df['Wbc'].fillna(df['Wbc'].mean())"
   ]
  },
  {
   "cell_type": "code",
   "execution_count": 147,
   "id": "4f6be033",
   "metadata": {},
   "outputs": [],
   "source": [
    "df = df.fillna(df.mode().iloc[0])"
   ]
  },
  {
   "cell_type": "code",
   "execution_count": 148,
   "id": "f9f8d52b",
   "metadata": {},
   "outputs": [],
   "source": [
    "from sklearn.preprocessing import LabelEncoder\n",
    "le = LabelEncoder()\n",
    "df['Bp']=le.fit_transform(df['Bp'])\n",
    "df['Appetite']=le.fit_transform(df['Appetite'])\n",
    "df['Pedal Edema']=le.fit_transform(df['Pedal Edema'])\n",
    "df['Anemia']=le.fit_transform(df['Anemia'])\n",
    "df['HTN']=le.fit_transform(df['HTN'])\n",
    "df['DM']=le.fit_transform(df['DM'])\n",
    "df['CLASS']=le.fit_transform(df['CLASS'])"
   ]
  },
  {
   "cell_type": "code",
   "execution_count": 149,
   "id": "36ae976f",
   "metadata": {},
   "outputs": [
    {
     "data": {
      "text/html": [
       "<div>\n",
       "<style scoped>\n",
       "    .dataframe tbody tr th:only-of-type {\n",
       "        vertical-align: middle;\n",
       "    }\n",
       "\n",
       "    .dataframe tbody tr th {\n",
       "        vertical-align: top;\n",
       "    }\n",
       "\n",
       "    .dataframe thead th {\n",
       "        text-align: right;\n",
       "    }\n",
       "</style>\n",
       "<table border=\"1\" class=\"dataframe\">\n",
       "  <thead>\n",
       "    <tr style=\"text-align: right;\">\n",
       "      <th></th>\n",
       "      <th>AGE</th>\n",
       "      <th>WEIGHT</th>\n",
       "      <th>SG</th>\n",
       "      <th>Alb</th>\n",
       "      <th>eGFR</th>\n",
       "      <th>Na+</th>\n",
       "      <th>K+</th>\n",
       "      <th>BUN</th>\n",
       "      <th>Creat</th>\n",
       "      <th>Rbc</th>\n",
       "      <th>Wbc</th>\n",
       "      <th>Bp</th>\n",
       "      <th>Appetite</th>\n",
       "      <th>Pedal Edema</th>\n",
       "      <th>Anemia</th>\n",
       "      <th>HTN</th>\n",
       "      <th>DM</th>\n",
       "      <th>CLASS</th>\n",
       "    </tr>\n",
       "  </thead>\n",
       "  <tbody>\n",
       "    <tr>\n",
       "      <th>0</th>\n",
       "      <td>57.0</td>\n",
       "      <td>89.0</td>\n",
       "      <td>1.020</td>\n",
       "      <td>4.0</td>\n",
       "      <td>80.0</td>\n",
       "      <td>135.0</td>\n",
       "      <td>3.8</td>\n",
       "      <td>40.0</td>\n",
       "      <td>1.40</td>\n",
       "      <td>3.8</td>\n",
       "      <td>7800.0</td>\n",
       "      <td>35</td>\n",
       "      <td>0</td>\n",
       "      <td>0</td>\n",
       "      <td>0</td>\n",
       "      <td>1</td>\n",
       "      <td>0</td>\n",
       "      <td>1</td>\n",
       "    </tr>\n",
       "    <tr>\n",
       "      <th>1</th>\n",
       "      <td>78.0</td>\n",
       "      <td>87.0</td>\n",
       "      <td>1.020</td>\n",
       "      <td>3.0</td>\n",
       "      <td>78.0</td>\n",
       "      <td>136.0</td>\n",
       "      <td>4.2</td>\n",
       "      <td>42.0</td>\n",
       "      <td>1.00</td>\n",
       "      <td>4.2</td>\n",
       "      <td>6300.0</td>\n",
       "      <td>36</td>\n",
       "      <td>0</td>\n",
       "      <td>1</td>\n",
       "      <td>0</td>\n",
       "      <td>0</td>\n",
       "      <td>0</td>\n",
       "      <td>1</td>\n",
       "    </tr>\n",
       "    <tr>\n",
       "      <th>2</th>\n",
       "      <td>76.0</td>\n",
       "      <td>90.0</td>\n",
       "      <td>1.010</td>\n",
       "      <td>4.0</td>\n",
       "      <td>90.0</td>\n",
       "      <td>134.0</td>\n",
       "      <td>4.5</td>\n",
       "      <td>38.0</td>\n",
       "      <td>1.40</td>\n",
       "      <td>3.2</td>\n",
       "      <td>7500.0</td>\n",
       "      <td>63</td>\n",
       "      <td>0</td>\n",
       "      <td>1</td>\n",
       "      <td>0</td>\n",
       "      <td>0</td>\n",
       "      <td>0</td>\n",
       "      <td>1</td>\n",
       "    </tr>\n",
       "    <tr>\n",
       "      <th>3</th>\n",
       "      <td>70.0</td>\n",
       "      <td>92.0</td>\n",
       "      <td>1.005</td>\n",
       "      <td>2.0</td>\n",
       "      <td>75.0</td>\n",
       "      <td>136.0</td>\n",
       "      <td>4.3</td>\n",
       "      <td>36.0</td>\n",
       "      <td>1.02</td>\n",
       "      <td>4.2</td>\n",
       "      <td>6700.0</td>\n",
       "      <td>62</td>\n",
       "      <td>1</td>\n",
       "      <td>1</td>\n",
       "      <td>0</td>\n",
       "      <td>0</td>\n",
       "      <td>0</td>\n",
       "      <td>1</td>\n",
       "    </tr>\n",
       "    <tr>\n",
       "      <th>4</th>\n",
       "      <td>65.0</td>\n",
       "      <td>94.0</td>\n",
       "      <td>1.010</td>\n",
       "      <td>4.0</td>\n",
       "      <td>89.0</td>\n",
       "      <td>138.0</td>\n",
       "      <td>4.3</td>\n",
       "      <td>28.0</td>\n",
       "      <td>0.80</td>\n",
       "      <td>4.5</td>\n",
       "      <td>4300.0</td>\n",
       "      <td>37</td>\n",
       "      <td>0</td>\n",
       "      <td>1</td>\n",
       "      <td>2</td>\n",
       "      <td>1</td>\n",
       "      <td>0</td>\n",
       "      <td>1</td>\n",
       "    </tr>\n",
       "  </tbody>\n",
       "</table>\n",
       "</div>"
      ],
      "text/plain": [
       "    AGE  WEIGHT     SG  Alb  eGFR    Na+   K+   BUN  Creat  Rbc     Wbc  Bp  \\\n",
       "0  57.0    89.0  1.020  4.0  80.0  135.0  3.8  40.0   1.40  3.8  7800.0  35   \n",
       "1  78.0    87.0  1.020  3.0  78.0  136.0  4.2  42.0   1.00  4.2  6300.0  36   \n",
       "2  76.0    90.0  1.010  4.0  90.0  134.0  4.5  38.0   1.40  3.2  7500.0  63   \n",
       "3  70.0    92.0  1.005  2.0  75.0  136.0  4.3  36.0   1.02  4.2  6700.0  62   \n",
       "4  65.0    94.0  1.010  4.0  89.0  138.0  4.3  28.0   0.80  4.5  4300.0  37   \n",
       "\n",
       "   Appetite  Pedal Edema  Anemia  HTN  DM  CLASS  \n",
       "0         0            0       0    1   0      1  \n",
       "1         0            1       0    0   0      1  \n",
       "2         0            1       0    0   0      1  \n",
       "3         1            1       0    0   0      1  \n",
       "4         0            1       2    1   0      1  "
      ]
     },
     "execution_count": 149,
     "metadata": {},
     "output_type": "execute_result"
    }
   ],
   "source": [
    "df.head()"
   ]
  },
  {
   "cell_type": "code",
   "execution_count": 150,
   "id": "2b76f8f5",
   "metadata": {},
   "outputs": [],
   "source": [
    "x = df.iloc[:,:-1]\n",
    "y = df.iloc[:,-1]\n",
    "\n",
    "x= x.astype('float64')\n",
    "y = y.astype('float64')"
   ]
  },
  {
   "cell_type": "markdown",
   "id": "d8f94683",
   "metadata": {},
   "source": [
    "## Model Building"
   ]
  },
  {
   "cell_type": "code",
   "execution_count": 151,
   "id": "463f6cd0",
   "metadata": {},
   "outputs": [],
   "source": [
    "from sklearn.model_selection import train_test_split\n",
    "x_train,x_test,y_train,y_test = train_test_split(x,y,test_size=0.3,stratify=y,random_state=42)"
   ]
  },
  {
   "cell_type": "markdown",
   "id": "03d98d72",
   "metadata": {},
   "source": [
    "### LOGISTIC REGRESSION"
   ]
  },
  {
   "cell_type": "code",
   "execution_count": 152,
   "id": "26fec994",
   "metadata": {},
   "outputs": [
    {
     "name": "stdout",
     "output_type": "stream",
     "text": [
      "Accuracy of the model is:\n",
      "0.8532608695652174\n"
     ]
    },
    {
     "name": "stderr",
     "output_type": "stream",
     "text": [
      "C:\\Users\\prems\\anaconda3\\envs\\MinorProject\\lib\\site-packages\\sklearn\\linear_model\\_logistic.py:444: ConvergenceWarning: lbfgs failed to converge (status=1):\n",
      "STOP: TOTAL NO. of ITERATIONS REACHED LIMIT.\n",
      "\n",
      "Increase the number of iterations (max_iter) or scale the data as shown in:\n",
      "    https://scikit-learn.org/stable/modules/preprocessing.html\n",
      "Please also refer to the documentation for alternative solver options:\n",
      "    https://scikit-learn.org/stable/modules/linear_model.html#logistic-regression\n",
      "  n_iter_i = _check_optimize_result(\n"
     ]
    }
   ],
   "source": [
    "from sklearn.linear_model import LogisticRegression\n",
    "from sklearn.metrics import accuracy_score,classification_report\n",
    "lr = LogisticRegression(random_state = 0, solver='lbfgs', multi_class='auto')\n",
    "lr = lr.fit(x_train,y_train)\n",
    "y_pred = lr.predict(x_test)\n",
    "\n",
    "print(\"Accuracy of the model is:\")\n",
    "print(accuracy_score(y_pred,y_test))"
   ]
  },
  {
   "cell_type": "markdown",
   "id": "b5b8eea3",
   "metadata": {},
   "source": [
    "### RANDOM FOREST CLASSIFIER"
   ]
  },
  {
   "cell_type": "code",
   "execution_count": 153,
   "id": "58f186ac",
   "metadata": {},
   "outputs": [
    {
     "name": "stdout",
     "output_type": "stream",
     "text": [
      "Accuracy of the model is:\n",
      "0.9728260869565217\n"
     ]
    }
   ],
   "source": [
    "from sklearn.ensemble import RandomForestClassifier\n",
    "from sklearn.metrics import accuracy_score,classification_report\n",
    "rf = RandomForestClassifier()\n",
    "rf = rf.fit(x_train,y_train)\n",
    "y_pred = rf.predict(x_test)\n",
    "\n",
    "print(\"Accuracy of the model is:\")\n",
    "print(accuracy_score(y_pred,y_test))"
   ]
  },
  {
   "cell_type": "markdown",
   "id": "7e6e0b8a",
   "metadata": {},
   "source": [
    "### DECISION TREE CLASSIFIER"
   ]
  },
  {
   "cell_type": "code",
   "execution_count": 154,
   "id": "16520231",
   "metadata": {},
   "outputs": [
    {
     "name": "stdout",
     "output_type": "stream",
     "text": [
      "Accuracy of the model is:\n",
      "0.9293478260869565\n"
     ]
    }
   ],
   "source": [
    "from sklearn.tree import DecisionTreeClassifier\n",
    "dt = DecisionTreeClassifier()\n",
    "dt = dt.fit(x_train,y_train)\n",
    "y_pred = dt.predict(x_test)\n",
    "\n",
    "print(\"Accuracy of the model is:\")\n",
    "print(accuracy_score(y_pred,y_test))"
   ]
  },
  {
   "cell_type": "markdown",
   "id": "6a5108a7",
   "metadata": {},
   "source": [
    "## Prediction"
   ]
  },
  {
   "cell_type": "code",
   "execution_count": 155,
   "id": "89eed2d6",
   "metadata": {},
   "outputs": [
    {
     "name": "stdout",
     "output_type": "stream",
     "text": [
      "The Particular Person has Stage-1 Kidney Disease\n"
     ]
    },
    {
     "name": "stderr",
     "output_type": "stream",
     "text": [
      "C:\\Users\\prems\\anaconda3\\envs\\MinorProject\\lib\\site-packages\\sklearn\\base.py:450: UserWarning: X does not have valid feature names, but RandomForestClassifier was fitted with feature names\n",
      "  warnings.warn(\n"
     ]
    }
   ],
   "source": [
    "result = rf.predict([x_test.loc[2].values])\n",
    "result = result.astype(int)\n",
    "if result==0:\n",
    "    print('The Particular Person has Stage-2 Kidney Disease')\n",
    "elif result==1:\n",
    "    print('The Particular Person has Stage-1 Kidney Disease')\n",
    "else:\n",
    "    print('The Particular Person has Stage-3 Kidney Disease')"
   ]
  },
  {
   "cell_type": "code",
   "execution_count": null,
   "id": "af264f1c",
   "metadata": {},
   "outputs": [],
   "source": []
  }
 ],
 "metadata": {
  "kernelspec": {
   "display_name": "Python 3 (ipykernel)",
   "language": "python",
   "name": "python3"
  },
  "language_info": {
   "codemirror_mode": {
    "name": "ipython",
    "version": 3
   },
   "file_extension": ".py",
   "mimetype": "text/x-python",
   "name": "python",
   "nbconvert_exporter": "python",
   "pygments_lexer": "ipython3",
   "version": "3.10.4"
  }
 },
 "nbformat": 4,
 "nbformat_minor": 5
}
